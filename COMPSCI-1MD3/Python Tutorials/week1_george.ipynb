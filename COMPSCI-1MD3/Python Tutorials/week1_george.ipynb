{
  "cells": [
    {
      "cell_type": "markdown",
      "metadata": {},
      "source": [
        "# Week 1 — Expressions, Variables, Booleans\n",
        "\n",
        "Lesson based on Sets A–F, with a new example for each set."
      ]
    },
    {
      "cell_type": "markdown",
      "metadata": {},
      "source": [
        "## Quick Operator Refresher\n",
        "- **Arithmetic**: `+  -  *  /  //  %  **`  \n",
        "  - `/` is float division; `//` is floor division; `%` is remainder; `**` is exponentiation  \n",
        "- **Boolean**: `==  !=  and  or  not`  \n",
        "- **Precedence** (high → low): `**` → unary `+ -` → `* / // %` → `+ -` → comparisons → `not` → `and` → `or`  \n"
      ]
    },
    {
      "cell_type": "markdown",
      "metadata": {},
      "source": [
        "# Python Operator Precedence Ladder\n",
        "\n",
        "From **highest** precedence (evaluated first) to **lowest** (evaluated last)."
      ]
    },
    {
      "cell_type": "markdown",
      "metadata": {},
      "source": [
        "## 1. Exponentiation `**`\n",
        "- Highest precedence.\n",
        "- **Right-associative**: evaluated from right to left.\n",
        "\n",
        "**Example:**"
      ]
    },
    {
      "cell_type": "code",
      "execution_count": 2,
      "metadata": {},
      "outputs": [
        {
          "data": {
            "text/plain": [
              "512"
            ]
          },
          "execution_count": 2,
          "metadata": {},
          "output_type": "execute_result"
        }
      ],
      "source": [
        "2 ** 3 ** 2   # 2 ** (3 ** 2) = 2 ** 9 = 512"
      ]
    },
    {
      "cell_type": "markdown",
      "metadata": {},
      "source": [
        "## 2. Unary `+` and `-`\n",
        "- Apply to a single value.\n",
        "- Note: `-3**2` means `-(3**2)`, not `(-3)**2`.\n",
        "\n",
        "**Examples:**"
      ]
    },
    {
      "cell_type": "code",
      "execution_count": 3,
      "metadata": {},
      "outputs": [
        {
          "data": {
            "text/plain": [
              "9"
            ]
          },
          "execution_count": 3,
          "metadata": {},
          "output_type": "execute_result"
        }
      ],
      "source": [
        "-3**2    # = -(3**2) = -9\n",
        "(-3)**2  # = 9"
      ]
    },
    {
      "cell_type": "markdown",
      "metadata": {},
      "source": [
        "## 3. Multiplication / Division / Modulo / Floor Division\n",
        "- Operators: `*`, `/`, `//`, `%`\n",
        "\n",
        "**Examples:**"
      ]
    },
    {
      "cell_type": "code",
      "execution_count": null,
      "metadata": {},
      "outputs": [],
      "source": [
        "10 // 3    # floor division = 3\n",
        "10 % 3     # remainder = 1\n",
        "10 * 2 % 7 # (20 % 7) = 6"
      ]
    },
    {
      "cell_type": "markdown",
      "metadata": {},
      "source": [
        "## 4. Addition and Subtraction\n",
        "- Evaluated after multiplication/division.\n",
        "\n",
        "**Example:**"
      ]
    },
    {
      "cell_type": "code",
      "execution_count": null,
      "metadata": {},
      "outputs": [],
      "source": [
        "6 + 4 * 2   # multiplication first → 6 + 8 = 14"
      ]
    },
    {
      "cell_type": "markdown",
      "metadata": {},
      "source": [
        "## 5. Comparisons\n",
        "- Operators: `==`, `!=`, `<`, `<=`, `>`, `>=`\n",
        "- Comparisons can **chain**.\n",
        "\n",
        "**Example:**"
      ]
    },
    {
      "cell_type": "code",
      "execution_count": null,
      "metadata": {},
      "outputs": [],
      "source": [
        "3 < 5 < 7   # True (same as 3 < 5 and 5 < 7)\n"
      ]
    },
    {
      "cell_type": "markdown",
      "metadata": {},
      "source": [
        "## 6. Logical Operators\n",
        "- Order: `not` → `and` → `or`\n",
        "\n",
        "**Examples:**"
      ]
    },
    {
      "cell_type": "code",
      "execution_count": 4,
      "metadata": {},
      "outputs": [
        {
          "data": {
            "text/plain": [
              "True"
            ]
          },
          "execution_count": 4,
          "metadata": {},
          "output_type": "execute_result"
        }
      ],
      "source": [
        "not True or False       # (False or False) = False\n",
        "True or False and False # True or (False and False) = True"
      ]
    },
    {
      "cell_type": "markdown",
      "metadata": {},
      "source": [
        "---\n",
        "## Precedence Ladder\n",
        "1. `**`\n",
        "2. unary `+ -`\n",
        "3. `*  /  //  %`\n",
        "4. `+  -`\n",
        "5. comparisons\n",
        "6. `not` → `and` → `or`\n",
        "\n",
        "👉 **Parentheses `()` always override precedence.**"
      ]
    },
    {
      "cell_type": "markdown",
      "metadata": {},
      "source": [
        "## Set A — Mathematical Expressions / Variables / Booleans"
      ]
    },
    {
      "cell_type": "markdown",
      "metadata": {},
      "source": [
        "**Evaluate (predict first, then run):**"
      ]
    },
    {
      "cell_type": "code",
      "execution_count": 5,
      "metadata": {},
      "outputs": [
        {
          "data": {
            "text/plain": [
              "83.0"
            ]
          },
          "execution_count": 5,
          "metadata": {},
          "output_type": "execute_result"
        }
      ],
      "source": [
        "# A1\n",
        "66 + 34 / 2"
      ]
    },
    {
      "cell_type": "code",
      "execution_count": 2,
      "metadata": {},
      "outputs": [
        {
          "data": {
            "text/plain": [
              "-2"
            ]
          },
          "execution_count": 2,
          "metadata": {},
          "output_type": "execute_result"
        }
      ],
      "source": [
        "# A2\n",
        "-2 * 3 // 5"
      ]
    },
    {
      "cell_type": "code",
      "execution_count": 3,
      "metadata": {},
      "outputs": [
        {
          "data": {
            "text/plain": [
              "4.0"
            ]
          },
          "execution_count": 3,
          "metadata": {},
          "output_type": "execute_result"
        }
      ],
      "source": [
        "# A3\n",
        "2 ** 4 ** (1 / (5 // 2))"
      ]
    },
    {
      "cell_type": "code",
      "execution_count": 4,
      "metadata": {},
      "outputs": [
        {
          "data": {
            "text/plain": [
              "-10"
            ]
          },
          "execution_count": 4,
          "metadata": {},
          "output_type": "execute_result"
        }
      ],
      "source": [
        "# A4\n",
        "min(max(min(-3**2, 3**2), 11//-1), -(4**2) + (2*3))\n",
        "\n",
        "\n"
      ]
    },
    {
      "cell_type": "markdown",
      "id": "47f80a5e",
      "metadata": {},
      "source": [
        "**Boolean ideas (equivalences):**"
      ]
    },
    {
      "cell_type": "code",
      "execution_count": 5,
      "metadata": {},
      "outputs": [],
      "source": [
        "# Rewrite using only the indicated operators (try, then reveal your own answers)\n",
        "# a and b   using only not/or  -> not((not a) or (not b))\n",
        "# a or b    using only and/not -> not((not a) and (not b))\n",
        "# xor       -> (a and not b) or (not a and b)  (for booleans, a != b works too)\n"
      ]
    },
    {
      "cell_type": "markdown",
      "metadata": {},
      "source": [
        "**New Example (Set A)**"
      ]
    },
    {
      "cell_type": "markdown",
      "id": "158a69ce",
      "metadata": {},
      "source": [
        "### Division Algorithm (Euclidean Division Property)\n",
        "\n",
        "For any integers **a** (the dividend) and **b** (the divisor, not zero), there exist unique integers:\n",
        "\n",
        "- **q = a // b**  → the quotient (floor division in Python)  \n",
        "- **r = a % b**   → the remainder  \n",
        "\n",
        "such that:\n",
        "\n",
        "\\[\n",
        "a = bq + r\n",
        "\\]\n",
        "\n",
        "➡️ In Python, the remainder **always has the same sign as the divisor**.\n"
      ]
    },
    {
      "cell_type": "code",
      "execution_count": null,
      "metadata": {},
      "outputs": [
        {
          "data": {
            "text/plain": [
              "(-3, 3, -1, 1, -3)"
            ]
          },
          "execution_count": 10,
          "metadata": {},
          "output_type": "execute_result"
        }
      ],
      "source": [
        "# Evaluate carefully (consider precedence and floor division with negatives)\n",
        "# NOTE: a == (a//b)*b + (a%b)\n",
        "\n",
        "exp_A = 11 // -4   # floor division towards -inf\n",
        "exp_B = (11) % 4  \n",
        "exp_C = 11 % (-4) # result has same sign as divisor\n",
        "exp_D = -11 % 4  # result has same  sign as divisor\n",
        "exp_E = -11 % (-4)\n",
        "\n",
        "exp_A, exp_B, exp_C, exp_D, exp_E"
      ]
    },
    {
      "cell_type": "markdown",
      "metadata": {},
      "source": [
        "## Set B — Evaluate Final Variable Values"
      ]
    },
    {
      "cell_type": "code",
      "execution_count": 7,
      "metadata": {},
      "outputs": [
        {
          "data": {
            "text/plain": [
              "(4, 16, 5, 7)"
            ]
          },
          "execution_count": 7,
          "metadata": {},
          "output_type": "execute_result"
        }
      ],
      "source": [
        "# B Example 1\n",
        "x = 3\n",
        "y = 4\n",
        "z = 5\n",
        "x = y\n",
        "y = x**2\n",
        "w = x + y // z\n",
        "x, y, z, w"
      ]
    },
    {
      "cell_type": "code",
      "execution_count": 8,
      "metadata": {},
      "outputs": [
        {
          "data": {
            "text/plain": [
              "(True, True, True)"
            ]
          },
          "execution_count": 8,
          "metadata": {},
          "output_type": "execute_result"
        }
      ],
      "source": [
        "# B Example 2\n",
        "x = 3\n",
        "y = 4\n",
        "z = 5\n",
        "a = not (x == y)\n",
        "b = a and (not False)\n",
        "c = b or True\n",
        "a, b, c"
      ]
    },
    {
      "cell_type": "code",
      "execution_count": 9,
      "metadata": {},
      "outputs": [
        {
          "data": {
            "text/plain": [
              "(1, 2, 2)"
            ]
          },
          "execution_count": 9,
          "metadata": {},
          "output_type": "execute_result"
        }
      ],
      "source": [
        "# B Example 3\n",
        "x = 9 % 2\n",
        "y = 2 % 9\n",
        "z = (5 % 9) // 2\n",
        "x, y, z"
      ]
    },
    {
      "cell_type": "markdown",
      "metadata": {},
      "source": [
        "**New Example (Set B)**"
      ]
    },
    {
      "cell_type": "code",
      "execution_count": null,
      "metadata": {},
      "outputs": [
        {
          "data": {
            "text/plain": [
              "(2, 3, 1, True)"
            ]
          },
          "execution_count": 11,
          "metadata": {},
          "output_type": "execute_result"
        }
      ],
      "source": [
        "# Tracking a few assignments, then producing a boolean\n",
        "p = 7\n",
        "q = 3 #q = 3\n",
        "p = p // q      # p = 2\n",
        "r = (p + q) % 4    # r = 1\n",
        "ok = (r != 0) and not (p == 0) # True\n",
        "p, q, r, ok "
      ]
    },
    {
      "cell_type": "markdown",
      "metadata": {},
      "source": [
        "## Set C — Give the Final Assignment for All Variables"
      ]
    },
    {
      "cell_type": "code",
      "execution_count": null,
      "metadata": {},
      "outputs": [
        {
          "data": {
            "text/plain": [
              "(10, 5, True, False, True, True)"
            ]
          },
          "execution_count": 12,
          "metadata": {},
          "output_type": "execute_result"
        }
      ],
      "source": [
        "# C Example 1\n",
        "x = 10\n",
        "y = 5\n",
        "is_greater = x > y # True\n",
        "is_equal = x == y # False\n",
        "is_not_equal = x != y # True\n",
        "result = (is_greater and is_equal) or not not is_not_equal # True\n",
        "x, y, is_greater, is_equal, is_not_equal, result # 10, 5, True, False, True, True"
      ]
    },
    {
      "cell_type": "code",
      "execution_count": null,
      "metadata": {},
      "outputs": [
        {
          "data": {
            "text/plain": [
              "(6, 44, 7)"
            ]
          },
          "execution_count": 27,
          "metadata": {},
          "output_type": "execute_result"
        }
      ],
      "source": [
        "# C Example 2\n",
        "x = 7\n",
        "y = 2\n",
        "z = 8\n",
        "x = max((x / y), (z - y)) # x = 6.0\n",
        "y = (x * z) - (y ** 2) # y = 44\n",
        "z = min((z % x) + (y // z), z) #z = 7\n",
        "x, y, z"
      ]
    },
    {
      "cell_type": "code",
      "execution_count": 15,
      "metadata": {},
      "outputs": [
        {
          "data": {
            "text/plain": [
              "(17.5, 8.0, 7, 31.5)"
            ]
          },
          "execution_count": 15,
          "metadata": {},
          "output_type": "execute_result"
        }
      ],
      "source": [
        "# C Example 3 (Bonus)\n",
        "x = 10 * (7) / 2**2\n",
        "y = 5 + 2 + 1.0\n",
        "z = 7\n",
        "total = sum([min(x, y, z), max(x, y, z), z])\n",
        "x, y, z, total"
      ]
    },
    {
      "cell_type": "markdown",
      "metadata": {},
      "source": [
        "**New Example (Set C)**"
      ]
    },
    {
      "cell_type": "code",
      "execution_count": 16,
      "metadata": {},
      "outputs": [
        {
          "data": {
            "text/plain": [
              "(9, 6, True, True)"
            ]
          },
          "execution_count": 16,
          "metadata": {},
          "output_type": "execute_result"
        }
      ],
      "source": [
        "# Combine comparisons and booleans, then compute a final flag\n",
        "a = 6\n",
        "b = 9\n",
        "bigger = max(a, b)\n",
        "smaller = min(a, b)\n",
        "balanced = (bigger - smaller) // 3 == 1\n",
        "final_flag = (balanced and (a != b)) or not (a == 6 and b == 9)\n",
        "bigger, smaller, balanced, final_flag"
      ]
    },
    {
      "cell_type": "markdown",
      "metadata": {},
      "source": [
        "## Set D — Variable Tracing"
      ]
    },
    {
      "cell_type": "code",
      "execution_count": 17,
      "metadata": {},
      "outputs": [
        {
          "data": {
            "text/plain": [
              "(3, 0, 3, 3)"
            ]
          },
          "execution_count": 17,
          "metadata": {},
          "output_type": "execute_result"
        }
      ],
      "source": [
        "# D Example 1\n",
        "b = 3\n",
        "a = b\n",
        "b = a - b\n",
        "c = a + b\n",
        "d = c % 7\n",
        "a, b, c, d"
      ]
    },
    {
      "cell_type": "code",
      "execution_count": 18,
      "metadata": {},
      "outputs": [
        {
          "data": {
            "text/plain": [
              "(7, True, True, False)"
            ]
          },
          "execution_count": 18,
          "metadata": {},
          "output_type": "execute_result"
        }
      ],
      "source": [
        "# D Example 2\n",
        "a = 3 + 4\n",
        "b = True\n",
        "c = (7 == a)\n",
        "d = (b != c)\n",
        "a, b, c, d"
      ]
    },
    {
      "cell_type": "code",
      "execution_count": 19,
      "metadata": {},
      "outputs": [
        {
          "data": {
            "text/plain": [
              "(False, True, False)"
            ]
          },
          "execution_count": 19,
          "metadata": {},
          "output_type": "execute_result"
        }
      ],
      "source": [
        "# D Example 3\n",
        "a = not (not (3 == 4))\n",
        "b = True and (not a)\n",
        "c = (not False) != b\n",
        "a, b, c"
      ]
    },
    {
      "cell_type": "markdown",
      "metadata": {},
      "source": [
        "**New Example (Set D)**"
      ]
    },
    {
      "cell_type": "code",
      "execution_count": null,
      "metadata": {},
      "outputs": [
        {
          "data": {
            "text/plain": [
              "(4, 2, 2, True)"
            ]
          },
          "execution_count": 31,
          "metadata": {},
          "output_type": "execute_result"
        }
      ],
      "source": [
        "# Trace step-by-step\n",
        "u = 12\n",
        "v = u // 5 # v = 2\n",
        "u = v + (u % 5) # u = 2 + (12%5) = 2 + 2 = 4\n",
        "w = (u * v) % 6 #w = (4*2)%6 = 8%6 = 2\n",
        "check = (w == 0) or (u > v) # True\n",
        "u, v, w, check"
      ]
    },
    {
      "cell_type": "markdown",
      "metadata": {},
      "source": [
        "## Set E — Swaps & Parity"
      ]
    },
    {
      "cell_type": "code",
      "execution_count": 21,
      "metadata": {},
      "outputs": [
        {
          "data": {
            "text/plain": [
              "(5, 10, False)"
            ]
          },
          "execution_count": 21,
          "metadata": {},
          "output_type": "execute_result"
        }
      ],
      "source": [
        "# E Example 1\n",
        "x = 10\n",
        "y = 5\n",
        "z = x\n",
        "x = y\n",
        "y = z\n",
        "z = not (x // y == 0)\n",
        "x, y, z"
      ]
    },
    {
      "cell_type": "code",
      "execution_count": 22,
      "metadata": {},
      "outputs": [
        {
          "data": {
            "text/plain": [
              "(8, 9, 9, True)"
            ]
          },
          "execution_count": 22,
          "metadata": {},
          "output_type": "execute_result"
        }
      ],
      "source": [
        "# E Example 2\n",
        "x = 2 ** 3\n",
        "y = 3 ** 2\n",
        "z = max(x, y)\n",
        "result = (z % 2) == 1\n",
        "x, y, z, result"
      ]
    },
    {
      "cell_type": "markdown",
      "metadata": {},
      "source": [
        "**New Example (Set E)**"
      ]
    },
    {
      "cell_type": "code",
      "execution_count": null,
      "metadata": {},
      "outputs": [
        {
          "data": {
            "text/plain": [
              "(2, 3, 1, True)"
            ]
          },
          "execution_count": 23,
          "metadata": {},
          "output_type": "execute_result"
        }
      ],
      "source": [
        "# Rotate three variables and test parity\n",
        "a = 1\n",
        "b = 2\n",
        "c = 3\n",
        "a, b, c = b, c, a       # rotation\n",
        "parity_test = ((a + b + c) % 2) == 0 # a = 2, b = 3, c = 1, parity_test = True\n",
        "a, b, c, parity_test"
      ]
    },
    {
      "cell_type": "markdown",
      "metadata": {},
      "source": [
        "## Set F — Mods, Floor Division, Boolean Chains"
      ]
    },
    {
      "cell_type": "code",
      "execution_count": 24,
      "metadata": {},
      "outputs": [
        {
          "data": {
            "text/plain": [
              "(38, 74)"
            ]
          },
          "execution_count": 24,
          "metadata": {},
          "output_type": "execute_result"
        }
      ],
      "source": [
        "# F Example 1 - Is there a difference?\n",
        "x = 2\n",
        "y = 6\n",
        "x = x + y*y\n",
        "z = x + y**2\n",
        "x, z"
      ]
    },
    {
      "cell_type": "code",
      "execution_count": 28,
      "metadata": {},
      "outputs": [
        {
          "data": {
            "text/plain": [
              "9"
            ]
          },
          "execution_count": 28,
          "metadata": {},
          "output_type": "execute_result"
        }
      ],
      "source": [
        "# F Example 2 - Mod Practice\n",
        "x = 5\n",
        "x = x % 12\n",
        "x = x + 3\n",
        "x = x % 12\n",
        "x = x + 1\n",
        "x"
      ]
    },
    {
      "cell_type": "code",
      "execution_count": 29,
      "metadata": {},
      "outputs": [
        {
          "data": {
            "text/plain": [
              "9.0"
            ]
          },
          "execution_count": 29,
          "metadata": {},
          "output_type": "execute_result"
        }
      ],
      "source": [
        "# F Example 3 - Floor Division\n",
        "x = 10\n",
        "y = 4\n",
        "z = 8\n",
        "a = 1 + x / 2\n",
        "a = a // y + z\n",
        "a"
      ]
    },
    {
      "cell_type": "code",
      "execution_count": 30,
      "metadata": {},
      "outputs": [
        {
          "data": {
            "text/plain": [
              "False"
            ]
          },
          "execution_count": 30,
          "metadata": {},
          "output_type": "execute_result"
        }
      ],
      "source": [
        "# F Example 4 - Boolean\n",
        "x = True\n",
        "y = 10\n",
        "z = x and y > 5\n",
        "z = z or x == False\n",
        "z = z == False\n",
        "z"
      ]
    },
    {
      "cell_type": "markdown",
      "metadata": {},
      "source": [
        "**New Example (Set F)**"
      ]
    },
    {
      "cell_type": "code",
      "execution_count": null,
      "metadata": {},
      "outputs": [],
      "source": [
        "# Mix %, //, and booleans\n",
        "m = 17\n",
        "n = 4\n",
        "q = m // n          # quotient\n",
        "r = m % n           # remainder\n",
        "ok = (m == q*n + r) and not (r < 0)\n",
        "q, r, ok"
      ]
    },
    {
      "cell_type": "markdown",
      "metadata": {},
      "source": [
        "## Exit Ticket (2–3 minutes)\n",
        "1) If `t = 9`, what is the value of `t // 2 + (t % 2)`?  \n",
        "2) Evaluate the Boolean expression\n"
      ]
    },
    {
      "cell_type": "code",
      "execution_count": null,
      "metadata": {},
      "outputs": [],
      "source": [
        "\n",
        "t = 9\n",
        "check_t = t // 2 + (t % 2)\n",
        "p, q = True, False\n",
        "xor_pq = (p and not q) or (not p and q)\n",
        "check_t, xor_pq"
      ]
    }
  ],
  "metadata": {
    "kernelspec": {
      "display_name": "Python 3",
      "language": "python",
      "name": "python3"
    },
    "language_info": {
      "codemirror_mode": {
        "name": "ipython",
        "version": 3
      },
      "file_extension": ".py",
      "mimetype": "text/x-python",
      "name": "python",
      "nbconvert_exporter": "python",
      "pygments_lexer": "ipython3",
      "version": "3.13.3"
    }
  },
  "nbformat": 4,
  "nbformat_minor": 5
}
