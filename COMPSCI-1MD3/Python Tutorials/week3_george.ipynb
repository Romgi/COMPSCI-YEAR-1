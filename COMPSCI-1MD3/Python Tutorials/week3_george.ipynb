{
 "cells": [
  {
   "cell_type": "markdown",
   "id": "17ef3251",
   "metadata": {},
   "source": [
    "# Week 3 Tutorial — String Slicing, Function Scope, and If Statements\n",
    "\n",
    "**Structure:**\n",
    "1. Strings & slicing\n",
    "2. Function scope (locals, globals, functions calling functions)\n",
    "3. If statements (if / elif / else, nested conditionals)\n"
   ]
  },
  {
   "cell_type": "markdown",
   "id": "539378c3",
   "metadata": {},
   "source": [
    "## Learning Goals\n",
    "- Read and write Python string slices (start:stop:step), including negative indices.\n",
    "- Predict outputs when functions call other functions and understand name resolution.\n",
    "- Write correct and readable conditional logic using `if / elif / else`.\n"
   ]
  },
  {
   "cell_type": "markdown",
   "id": "4ff9e323",
   "metadata": {},
   "source": [
    "## 1) Strings & Slicing — Quick Notes\n",
    "- `s[a:b]` returns characters from index `a` up to but **not including** `b`.\n",
    "- `s[a:b:c]` uses `c` as the step (can be negative).\n",
    "- Omitting `a`, `b`, or `c` uses sensible defaults: start/end/step=1.\n",
    "- Negative indices count from the right: `s[-1]` is last char.\n"
   ]
  },
  {
   "cell_type": "markdown",
   "id": "e4d08bfb",
   "metadata": {},
   "source": [
    "### Exercise 1.1 — Read some slices\n",
    "Given `s = '1234567'`, fill the variables with the correct slices/indices."
   ]
  },
  {
   "cell_type": "code",
   "execution_count": 1,
   "id": "e1356c8b",
   "metadata": {},
   "outputs": [
    {
     "name": "stdout",
     "output_type": "stream",
     "text": [
      "6 6 345 1234 67\n"
     ]
    }
   ],
   "source": [
    "s = '1234567'\n",
    "# TODO: Replace the `...` with the correct expressions\n",
    "a = '6'   # s[len(s) - 2]\n",
    "b = '6'   # s[-2]\n",
    "c = '345'   # s[-5:-2]\n",
    "d = '1234'   # s[:-3]\n",
    "e = '67'   # s[5:]\n",
    "print(a, b, c, d, e)\n"
   ]
  },
  {
   "cell_type": "markdown",
   "id": "322c6dcd",
   "metadata": {},
   "source": [
    "#### Solution 1.1"
   ]
  },
  {
   "cell_type": "code",
   "execution_count": 2,
   "id": "5fb79979",
   "metadata": {},
   "outputs": [
    {
     "name": "stdout",
     "output_type": "stream",
     "text": [
      "6 6 345 1234 67\n"
     ]
    }
   ],
   "source": [
    "s = '1234567'\n",
    "a = s[len(s) - 2]\n",
    "b = s[-2]\n",
    "c = s[-5:-2]\n",
    "d = s[:-3]\n",
    "e = s[5:]\n",
    "print(a, b, c, d, e)  # 6 6 345 1234 67\n"
   ]
  },
  {
   "cell_type": "markdown",
   "id": "88145e83",
   "metadata": {},
   "source": [
    "### Double Slicing (`x[a:b:c][i:j:k]`)\n",
    "\n",
    "Python lets you **chain slices/indexing** because the first slice returns a *new string*,\n",
    "and then you can immediately slice or index *that new string*.\n",
    "\n",
    "Some useful patterns:\n",
    "\n",
    "- `x[a:b][i]` → slice first, then index into the result.\n",
    "- `x[a:b][i:j]` → slice, then slice again.\n",
    "- Chaining slices can be handy, but keep readability in mind.\n",
    "\n",
    "**Example:**  \n",
    "```python\n",
    "x = \"0123456789\"\n"
   ]
  },
  {
   "cell_type": "code",
   "execution_count": 3,
   "id": "f34a5d47",
   "metadata": {},
   "outputs": [
    {
     "name": "stdout",
     "output_type": "stream",
     "text": [
      "x[::2]        -> 02468\n",
      "x[::2][2]     -> 4\n",
      "x[2:8][::3]   -> 25\n",
      "x[::3][::-1]  -> 9630\n"
     ]
    }
   ],
   "source": [
    "x = \"0123456789\"\n",
    "\n",
    "print(\"x[::2]        ->\", x[::2])       \n",
    "print(\"x[::2][2]     ->\", x[::2][2])    \n",
    "print(\"x[2:8][::3]   ->\", x[2:8][::3])  \n",
    "print(\"x[::3][::-1]  ->\", x[::3][::-1]) \n"
   ]
  },
  {
   "cell_type": "code",
   "execution_count": 4,
   "id": "33da6f57",
   "metadata": {},
   "outputs": [
    {
     "name": "stdout",
     "output_type": "stream",
     "text": [
      "x[::2]        -> 02468\n",
      "x[::2][2]     -> 4\n",
      "x[2:8][::3]   -> 25\n",
      "x[::3][::-1]  -> 9630\n"
     ]
    }
   ],
   "source": [
    "x = \"0123456789\"\n",
    "\n",
    "print(\"x[::2]        ->\", x[::2])       # 02468\n",
    "print(\"x[::2][2]     ->\", x[::2][2])    # 4 (the 3rd even digit)\n",
    "print(\"x[2:8][::3]   ->\", x[2:8][::3])  # 25\n",
    "print(\"x[::3][::-1]  ->\", x[::3][::-1]) # 9630\n"
   ]
  },
  {
   "cell_type": "markdown",
   "id": "26bfcbaf",
   "metadata": {},
   "source": [
    "### Exercise 1.2 — One‑liner with chained slices\n",
    "Let `x = '0123456789'`. Create a **single expression** that builds a string of all the even digits in `x`, then selects the **3rd even digit** (0‑based indexing)."
   ]
  },
  {
   "cell_type": "code",
   "execution_count": 6,
   "id": "e83cd2c6",
   "metadata": {},
   "outputs": [
    {
     "name": "stdout",
     "output_type": "stream",
     "text": [
      "4\n"
     ]
    }
   ],
   "source": [
    "x = '0123456789'\n",
    "# TODO: In one expression only (no temporary variables), first slice to keep even digits,\n",
    "# then index to get the 3rd even digit. Hint: even digits are at indices 0,2,4,6,8.\n",
    "ans = x[::2][2] # e.g., something like x[...][...]\n",
    "print(ans)\n"
   ]
  },
  {
   "cell_type": "markdown",
   "id": "388d1817",
   "metadata": {},
   "source": [
    "#### Solution 1.2"
   ]
  },
  {
   "cell_type": "code",
   "execution_count": 7,
   "id": "46a64935",
   "metadata": {},
   "outputs": [
    {
     "name": "stdout",
     "output_type": "stream",
     "text": [
      "4\n"
     ]
    }
   ],
   "source": [
    "x = '0123456789'\n",
    "ans = x[::2][2]  # x[::2] -> '02468'; -> '4'\n",
    "print(ans)\n"
   ]
  },
  {
   "cell_type": "markdown",
   "id": "a683c623",
   "metadata": {},
   "source": [
    "### Exercise 1.3 — Practice with start/stop/step\n",
    "Using `s = 'Hello World!'`:\n",
    "1) Get `'Hello'` \n",
    "2) Get `'World!'`\n",
    "3) Get reversed `'!dlroW olleH'`\n",
    "4) Get `'HloWrd'` (skip every other char from each word)"
   ]
  },
  {
   "cell_type": "code",
   "execution_count": 14,
   "id": "a2097de3",
   "metadata": {},
   "outputs": [
    {
     "name": "stdout",
     "output_type": "stream",
     "text": [
      "Hello\n",
      "World!\n",
      "!dlroW olleH\n",
      "HloWrd\n"
     ]
    }
   ],
   "source": [
    "s = 'Hello World!'\n",
    "# TODO: Fill the four variables using slicing only.\n",
    "part1 = s[:5]\n",
    "part2 = s[6:]\n",
    "rev   = s[::-1]\n",
    "skip  = s[::2]\n",
    "print(part1)\n",
    "print(part2)\n",
    "print(rev)\n",
    "print(skip)\n"
   ]
  },
  {
   "cell_type": "markdown",
   "id": "d0ecb51c",
   "metadata": {},
   "source": [
    "#### Solution 1.3"
   ]
  },
  {
   "cell_type": "code",
   "execution_count": 15,
   "id": "7442741d",
   "metadata": {},
   "outputs": [
    {
     "name": "stdout",
     "output_type": "stream",
     "text": [
      "Hello\n",
      "World!\n",
      "!dlroW olleH\n",
      "HloWrd\n"
     ]
    }
   ],
   "source": [
    "s = 'Hello World!'\n",
    "part1 = s[:5]\n",
    "part2 = s[6:]\n",
    "rev   = s[::-1]\n",
    "skip  = s[::2] \n",
    "print(part1)\n",
    "print(part2)\n",
    "print(rev)\n",
    "print(skip)\n"
   ]
  },
  {
   "cell_type": "markdown",
   "id": "3a40ca1f",
   "metadata": {},
   "source": [
    "## 2) Function Scope — Quick Notes\n",
    "- Python uses **LEGB** name resolution: Local → Enclosing → Global → Built‑ins.\n",
    "- Assignment inside a function creates a **local** variable unless declared `global` or `nonlocal`.\n",
    "- Functions can call other functions; each call gets its own local scope.\n"
   ]
  },
  {
   "cell_type": "markdown",
   "id": "f9fbe21d",
   "metadata": {},
   "source": [
    "### Exercise 2.1 — Predict the output\n",
    "Before running, predict what gets printed, and **why**."
   ]
  },
  {
   "cell_type": "code",
   "execution_count": 16,
   "id": "9746d462",
   "metadata": {},
   "outputs": [
    {
     "name": "stdout",
     "output_type": "stream",
     "text": [
      "16\n"
     ]
    }
   ],
   "source": [
    "x = 10\n",
    "def f(a):\n",
    "    x = a + 1   \n",
    "    return x\n",
    "\n",
    "def g(b):\n",
    "    return f(b) + x \n",
    "\n",
    "print(g(5))  \n"
   ]
  },
  {
   "cell_type": "markdown",
   "id": "7de16d5b",
   "metadata": {},
   "source": [
    "#### Solution 2.1 (explanation)\n",
    "- Inside `f`, `x` is **local** to `f` and does not affect global `x`.\n",
    "- In `g`, the `x` referenced is the **global** `x` (10).\n",
    "- `f(5)` returns `6`; `6 + 10 = 16`, so it prints **16**.\n"
   ]
  },
  {
   "cell_type": "markdown",
   "id": "779768fd",
   "metadata": {},
   "source": [
    "### Exercise 2.2 — Globals and mutation\n",
    "Fix the function so that it increments the global `counter` by 1 each time it is called."
   ]
  },
  {
   "cell_type": "code",
   "execution_count": 18,
   "id": "ffdd5192",
   "metadata": {},
   "outputs": [
    {
     "name": "stdout",
     "output_type": "stream",
     "text": [
      "1\n",
      "2\n",
      "final counter = 2\n"
     ]
    }
   ],
   "source": [
    "counter = 0\n",
    "def bump():\n",
    "    global counter\n",
    "    counter += 1\n",
    "    return counter\n",
    "print(bump())\n",
    "print(bump())\n",
    "print('final counter =', counter)\n"
   ]
  },
  {
   "cell_type": "markdown",
   "id": "0c099f3a",
   "metadata": {},
   "source": [
    "#### Solution 2.2"
   ]
  },
  {
   "cell_type": "code",
   "execution_count": 19,
   "id": "1d8339ca",
   "metadata": {},
   "outputs": [
    {
     "name": "stdout",
     "output_type": "stream",
     "text": [
      "1\n",
      "2\n",
      "final counter = 2\n"
     ]
    }
   ],
   "source": [
    "counter = 0\n",
    "def bump():\n",
    "    global counter\n",
    "    counter += 1\n",
    "    return counter\n",
    "\n",
    "print(bump())\n",
    "print(bump())\n",
    "print('final counter =', counter)\n"
   ]
  },
  {
   "cell_type": "markdown",
   "id": "567b5464",
   "metadata": {},
   "source": [
    "### Exercise 2.3 — Functions calling functions\n",
    "What is printed? Explain name resolution."
   ]
  },
  {
   "cell_type": "code",
   "execution_count": 20,
   "id": "50bda8b9",
   "metadata": {},
   "outputs": [
    {
     "name": "stdout",
     "output_type": "stream",
     "text": [
      "6\n"
     ]
    }
   ],
   "source": [
    "def outer(x):\n",
    "    def inner(y):\n",
    "        def leaf(z):\n",
    "            return x + y + z\n",
    "        return leaf(3)\n",
    "    return inner(2)\n",
    "\n",
    "print(outer(1))  # Predict, then run\n"
   ]
  },
  {
   "cell_type": "markdown",
   "id": "6db52778",
   "metadata": {},
   "source": [
    "#### Solution 2.3\n",
    "`x` is captured from the enclosing scope of `outer`. `inner(2)` passes `y=2`, and `leaf(3)` uses `z=3`. Sum is `1 + 2 + 3 = 6` → prints **6**.\n"
   ]
  },
  {
   "cell_type": "markdown",
   "id": "d2dca3dd",
   "metadata": {},
   "source": [
    "## 3) If Statements — Quick Notes\n",
    "- Use `if / elif / else` to build mutually exclusive branches.\n",
    "- Prefer flat `elif` chains to deeply nested `if`s when possible.\n",
    "- Guard against unreachable branches and redundant logic.\n"
   ]
  },
  {
   "cell_type": "markdown",
   "id": "f95e76e0",
   "metadata": {},
   "source": [
    "### Exercise 3.1 — Trace nested conditionals\n",
    "For the function `f(x)` below, determine what is printed for the test calls. Then run and compare your predictions."
   ]
  },
  {
   "cell_type": "code",
   "execution_count": 21,
   "id": "c9d609f4",
   "metadata": {},
   "outputs": [
    {
     "name": "stdout",
     "output_type": "stream",
     "text": [
      "f(11):\n",
      "C\n",
      "H\n",
      "\n",
      "f(300):\n",
      "A\n",
      "H\n",
      "\n",
      "f(5):\n",
      "D\n",
      "F\n"
     ]
    }
   ],
   "source": [
    "def f(x):\n",
    "    if x > 10:\n",
    "        if x > 100:\n",
    "            print('A')\n",
    "        elif x > 200:\n",
    "            print('B')\n",
    "        else:\n",
    "            print('C')\n",
    "    elif x < 50:\n",
    "        if x < 40:\n",
    "            print('D')\n",
    "        else:\n",
    "            print('E')\n",
    "        if x < 30:\n",
    "            print('F')\n",
    "        else:\n",
    "            print('G')\n",
    "    if x >= 10:\n",
    "        print('H')\n",
    "    elif x >= 10:\n",
    "        print('I')\n",
    "\n",
    "print('f(11):')\n",
    "f(11)\n",
    "print('\\nf(300):')\n",
    "f(300)\n",
    "print('\\nf(5):')\n",
    "f(5)\n"
   ]
  },
  {
   "cell_type": "markdown",
   "id": "aacc1402",
   "metadata": {},
   "source": [
    "#### Solution 3.1 (key observations)\n",
    "- The `elif x > 200` under `x > 10` will **never** run, because if `x > 200`, the previous test `x > 100` is already true.\n",
    "- The bottom `elif x >= 10` can never run because the preceding `if x >= 10` already caught those cases.\n",
    "- Try a few inputs and confirm which letters appear.\n"
   ]
  },
  {
   "cell_type": "markdown",
   "id": "3df89946",
   "metadata": {},
   "source": [
    "### Exercise 3.2 — Refactor to a clean `elif` chain\n",
    "Simplify the grading logic into a flat, readable structure."
   ]
  },
  {
   "cell_type": "code",
   "execution_count": 22,
   "id": "104202b0",
   "metadata": {},
   "outputs": [
    {
     "name": "stdout",
     "output_type": "stream",
     "text": [
      "59 -> None\n",
      "60 -> None\n",
      "75 -> None\n",
      "88 -> None\n",
      "93 -> None\n"
     ]
    }
   ],
   "source": [
    "def get_grade(score):\n",
    "    # TODO: rewrite as a flat chain with early thresholds\n",
    "    # 90+: 'A', 80–89: 'B', 70–79: 'C', 60–69: 'D', else: 'F'\n",
    "    ...\n",
    "\n",
    "for s in (59, 60, 75, 88, 93):\n",
    "    print(s, '->', get_grade(s))\n"
   ]
  },
  {
   "cell_type": "markdown",
   "id": "5708df06",
   "metadata": {},
   "source": [
    "#### Solution 3.2"
   ]
  },
  {
   "cell_type": "code",
   "execution_count": 23,
   "id": "9f3d77a7",
   "metadata": {},
   "outputs": [
    {
     "name": "stdout",
     "output_type": "stream",
     "text": [
      "59 -> F\n",
      "60 -> D\n",
      "75 -> C\n",
      "88 -> B\n",
      "93 -> A\n"
     ]
    }
   ],
   "source": [
    "def get_grade(score):\n",
    "    if score >= 90:\n",
    "        return 'A'\n",
    "    elif score >= 80:\n",
    "        return 'B'\n",
    "    elif score >= 70:\n",
    "        return 'C'\n",
    "    elif score >= 60:\n",
    "        return 'D'\n",
    "    else:\n",
    "        return 'F'\n",
    "\n",
    "for s in (59, 60, 75, 88, 93):\n",
    "    print(s, '->', get_grade(s))\n"
   ]
  },
  {
   "cell_type": "markdown",
   "id": "5291548e",
   "metadata": {},
   "source": [
    "### Exercise 3.3 — Decode with slices and conditionals\n",
    "An alien message has been distorted. Rules:\n",
    "- Split the string in half\n",
    "- Read every third character of the first half\n",
    "- Skip five characters of the second half, then read every second letter **in reverse**\n",
    "- Join the two parts with a space"
   ]
  },
  {
   "cell_type": "code",
   "execution_count": 28,
   "id": "199930e9",
   "metadata": {},
   "outputs": [
    {
     "name": "stdout",
     "output_type": "stream",
     "text": [
      "hello earth\n"
     ]
    }
   ],
   "source": [
    "msg = 'hbce ul tlnxomhn ghhet rla2e'\n",
    "# TODO: Implement the described decoding into variable `decoded`\n",
    "mid = len(msg) // 2\n",
    "first_half = msg[:mid]\n",
    "second_half = msg[mid:]\n",
    "first_final = first_half[::3]\n",
    "second_final = second_half[5:][::-2]\n",
    "decoded = part1 + ' ' + part2\n",
    "print(decoded)\n"
   ]
  },
  {
   "cell_type": "markdown",
   "id": "c6e9cf33",
   "metadata": {},
   "source": [
    "#### Solution 3.3"
   ]
  },
  {
   "cell_type": "code",
   "execution_count": 27,
   "id": "a6886294",
   "metadata": {},
   "outputs": [
    {
     "name": "stdout",
     "output_type": "stream",
     "text": [
      "hello earth\n"
     ]
    }
   ],
   "source": [
    "msg = 'hbce ul tlnxomhn ghhet rla2e'\n",
    "mid = len(msg)//2\n",
    "left, right = msg[:mid], msg[mid:]\n",
    "part1 = left[::3]\n",
    "part2 = right[5:][::-2]\n",
    "decoded = part1 + ' ' + part2\n",
    "print(decoded)\n"
   ]
  }
 ],
 "metadata": {
  "kernelspec": {
   "display_name": "Python 3",
   "language": "python",
   "name": "python3"
  },
  "language_info": {
   "codemirror_mode": {
    "name": "ipython",
    "version": 3
   },
   "file_extension": ".py",
   "mimetype": "text/x-python",
   "name": "python",
   "nbconvert_exporter": "python",
   "pygments_lexer": "ipython3",
   "version": "3.13.3"
  }
 },
 "nbformat": 4,
 "nbformat_minor": 5
}
