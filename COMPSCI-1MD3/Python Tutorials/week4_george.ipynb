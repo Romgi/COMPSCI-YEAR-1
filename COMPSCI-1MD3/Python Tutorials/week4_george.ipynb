{
 "cells": [
  {
   "cell_type": "markdown",
   "metadata": {},
   "source": [
    "## Tutorial 4"
   ]
  },
  {
   "cell_type": "markdown",
   "metadata": {},
   "source": [
    "## For Loops"
   ]
  },
  {
   "cell_type": "markdown",
   "metadata": {},
   "source": [
    "A `for loop` is used for iterating over a sequence (either a list, a tuple, a dictionary, a set, or a string).\n",
    "\n",
    "Strings are iterable objects since they contain a sequence of characters:\n",
    "\n"
   ]
  },
  {
   "cell_type": "code",
   "execution_count": 1,
   "metadata": {},
   "outputs": [
    {
     "name": "stdout",
     "output_type": "stream",
     "text": [
      "a\n",
      "p\n",
      "p\n",
      "l\n",
      "e\n"
     ]
    }
   ],
   "source": [
    "for x in \"apple\":\n",
    "  print(x)\n",
    "\n"
   ]
  },
  {
   "cell_type": "markdown",
   "metadata": {},
   "source": [
    "The `break` statement stops the loop and moves control to the next command outside the loop.\n",
    "\n",
    "The `continue` statement allows you to skip over the part of a loop where an external condition is triggered.\n",
    "\n",
    "### Example:\n",
    "\n"
   ]
  },
  {
   "cell_type": "code",
   "execution_count": 2,
   "metadata": {},
   "outputs": [
    {
     "name": "stdout",
     "output_type": "stream",
     "text": [
      "apple\n",
      "banana\n"
     ]
    }
   ],
   "source": [
    "fruits = [\"apple\", \"banana\", \"cherry\"]\n",
    "for x in fruits:\n",
    "  print(x)\n",
    "  if x == \"banana\":\n",
    "    break"
   ]
  },
  {
   "cell_type": "code",
   "execution_count": 3,
   "metadata": {},
   "outputs": [
    {
     "name": "stdout",
     "output_type": "stream",
     "text": [
      "apple\n",
      "cherry\n"
     ]
    }
   ],
   "source": [
    "fruits = [\"apple\", \"banana\", \"cherry\"]\n",
    "for x in fruits:\n",
    "  if x == \"banana\":\n",
    "    continue\n",
    "  print(x)"
   ]
  },
  {
   "cell_type": "markdown",
   "metadata": {},
   "source": [
    "### Practice Exercises:"
   ]
  },
  {
   "cell_type": "code",
   "execution_count": null,
   "metadata": {},
   "outputs": [
    {
     "name": "stdout",
     "output_type": "stream",
     "text": [
      "H*ll* W*rld\n"
     ]
    }
   ],
   "source": [
    "def replace_vowels(s: str) -> str:\n",
    "    for char in s:\n",
    "        if char in \"aeiouAEIOU\":\n",
    "            s = s.replace(char, \"*\")\n",
    "    return s\n",
    "\n",
    "print(replace_vowels(\"Hello World\"))\n",
    "\n"
   ]
  },
  {
   "cell_type": "code",
   "execution_count": 13,
   "metadata": {},
   "outputs": [
    {
     "name": "stdout",
     "output_type": "stream",
     "text": [
      "10\n",
      "0\n"
     ]
    }
   ],
   "source": [
    "def count_alpha(s: str) -> int:\n",
    "    count = 0\n",
    "    for char in s:\n",
    "        if char.isalpha():\n",
    "            count+=1\n",
    "    return count\n",
    "\n",
    "\n",
    "print(count_alpha(\"Hello World! 123\"))\n",
    "print(count_alpha(\"123456\"))\n"
   ]
  },
  {
   "cell_type": "code",
   "execution_count": 7,
   "metadata": {},
   "outputs": [
    {
     "name": "stdout",
     "output_type": "stream",
     "text": [
      "!dlroWolleH\n"
     ]
    }
   ],
   "source": [
    "def reverse_no_spaces(s: str) -> str:\n",
    "    result = \"\"\n",
    "\n",
    "    for char in s:\n",
    "        if char != ' ':\n",
    "            result = char + result\n",
    "    return result\n",
    "\n",
    "print(reverse_no_spaces(\"Hello World!\"))\n",
    "\n"
   ]
  },
  {
   "cell_type": "code",
   "execution_count": null,
   "metadata": {},
   "outputs": [
    {
     "name": "stdout",
     "output_type": "stream",
     "text": [
      "True\n",
      "False\n"
     ]
    }
   ],
   "source": [
    "def is_palindrome(s: str) -> bool:\n",
    "    filtered_string = \"\"\n",
    "\n",
    "    for char in s:\n",
    "        if char.isalpha():\n",
    "            filtered_string += char.lower()\n",
    "    return filtered_string == filtered_string[::-1]\n",
    "\n",
    "print(is_palindrome(\"A man a plan a canal Panama\"))\n",
    "print(is_palindrome(\"hello\"))\n"
   ]
  },
  {
   "cell_type": "code",
   "execution_count": 12,
   "metadata": {},
   "outputs": [
    {
     "name": "stdout",
     "output_type": "stream",
     "text": [
      "desserts\n"
     ]
    }
   ],
   "source": [
    "def reverse_string(s):\n",
    "    return s[::-1]\n",
    "\n",
    "print(reverse_string(\"stressed\"))  # Expect \"desserts\""
   ]
  },
  {
   "cell_type": "markdown",
   "metadata": {},
   "source": [
    "## 3) Challenge Puzzles (Reachability Proofs)"
   ]
  },
  {
   "cell_type": "code",
   "execution_count": null,
   "metadata": {},
   "outputs": [],
   "source": [
    "def challenge1(x, y):\n",
    "    if x < 0 and y > 0:\n",
    "        if x > 0: \n",
    "            return \"A\"\n",
    "        elif x <= 0:\n",
    "            return \"B\"\n",
    "    elif x >= 0:\n",
    "        if x == 0 and x < 0:\n",
    "            return \"C\"\n",
    "        else:\n",
    "            return \"D\"\n",
    "    return \"E\"\n",
    "\n",
    "# Q: Which of {\"A\",\"B\",\"C\",\"D\",\"E\"} are truly possible?"
   ]
  },
  {
   "cell_type": "markdown",
   "metadata": {},
   "source": [
    "### Challenge 1 — Final Verdict\n",
    "\n",
    "- **\"A\"**: Impossible — requires `x < 0` and `x > 0` at the same time.  \n",
    "- **\"B\"**: Possible — occurs when `x < 0` and `y > 0`.  \n",
    "- **\"C\"**: Impossible — condition `x == 0 and x < 0` can never be true.  \n",
    "- **\"D\"**: Possible — occurs whenever `x >= 0` (the default in that branch).  \n",
    "- **\"E\"**: Possible — occurs when `x < 0 and y <= 0` (falls through both outer checks).  \n",
    "\n",
    "✅ **Reachable outputs:** `{\"B\", \"D\", \"E\"}`  \n",
    "❌ **Unreachable outputs:** `{\"A\", \"C\"}`\n"
   ]
  },
  {
   "cell_type": "markdown",
   "metadata": {},
   "source": [
    "## Challenge 2"
   ]
  },
  {
   "cell_type": "code",
   "execution_count": 15,
   "metadata": {},
   "outputs": [],
   "source": [
    "def challenge2(a, b, c):\n",
    "    if a > b and b > c:\n",
    "        if a <= c:\n",
    "            return 1\n",
    "        elif a > c:\n",
    "            if b > a:\n",
    "                return 2\n",
    "            else:\n",
    "                return 3\n",
    "    else:\n",
    "        if not (a > b and b > c):\n",
    "            return 4\n",
    "    return 5\n",
    "\n",
    "# Q: Which numbers can appear? Justify each unreachable branch."
   ]
  },
  {
   "cell_type": "markdown",
   "metadata": {},
   "source": [
    "### Challenge 2 — Analysis\n",
    "\n",
    "```python\n",
    "def challenge2(a, b, c):\n",
    "    if a > b and b > c:              # chain ordering a > b > c\n",
    "        if a <= c:                   # cannot happen if a > b > c\n",
    "            return 1\n",
    "        elif a > c:\n",
    "            if b > a:                # cannot happen if a > b\n",
    "                return 2\n",
    "            else:\n",
    "                return 3\n",
    "    else:\n",
    "        if not (a > b and b > c):    # true whenever the first condition fails\n",
    "            return 4\n",
    "    return 5\n",
    "```\n",
    "\n",
    "✅ **Reachable outputs:** `{\"3\", \"4\"}`  \n",
    "❌ **Unreachable outputs:** `{\"1\", \"2\", \"5\"}`"
   ]
  }
 ],
 "metadata": {
  "kernelspec": {
   "display_name": "Python 3",
   "language": "python",
   "name": "python3"
  },
  "language_info": {
   "codemirror_mode": {
    "name": "ipython",
    "version": 3
   },
   "file_extension": ".py",
   "mimetype": "text/x-python",
   "name": "python",
   "nbconvert_exporter": "python",
   "pygments_lexer": "ipython3",
   "version": "3.13.3"
  }
 },
 "nbformat": 4,
 "nbformat_minor": 2
}
