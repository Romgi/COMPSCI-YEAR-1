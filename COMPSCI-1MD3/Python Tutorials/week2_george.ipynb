{
 "cells": [
  {
   "cell_type": "markdown",
   "id": "b77b48dd",
   "metadata": {},
   "source": [
    "# Week 2 — Functions (Basics, Scope, and Composition)\n",
    "\n",
    "\n",
    "This tutorial builds on Week 1 and focuses on:\n",
    "- Declaring and calling **functions**\n",
    "- Understanding **parameters** vs **arguments**\n",
    "- **Return** vs **print**\n",
    "- **Local vs global** scope, the `global` keyword, and common pitfalls\n",
    "- Calling **functions inside other functions**\n",
    "- Short tracing exercises and practice problems\n",
    "\n",
    "> You can run each cell with **Shift + Enter**."
   ]
  },
  {
   "cell_type": "markdown",
   "id": "06ace23d",
   "metadata": {},
   "source": [
    "## 0) Warm-up: function shape\n",
    "In Python, a function is defined with `def` and can return a value with `return`."
   ]
  },
  {
   "cell_type": "code",
   "execution_count": null,
   "id": "33bc8834",
   "metadata": {},
   "outputs": [],
   "source": [
    "def greet(name):\n",
    "    return f\"Hello, {name}!\"\n",
    "\n",
    "# Try it:\n",
    "greet(\"McMaster\")"
   ]
  },
  {
   "cell_type": "markdown",
   "id": "be0992f8",
   "metadata": {},
   "source": [
    "## 1) `return` vs `print`\n",
    "- `return` sends a value **back to the caller** (so it can be stored or used).\n",
    "- `print` displays text to the screen (for humans), and does **not** replace `return`."
   ]
  },
  {
   "cell_type": "code",
   "execution_count": null,
   "id": "3f87a809",
   "metadata": {},
   "outputs": [],
   "source": [
    "def demo_print(x):\n",
    "    print(\"I am printing:\", x)   # side-effect only\n",
    "\n",
    "def demo_return(x):\n",
    "    return x * 2                  # value comes back to caller\n",
    "\n",
    "printed = demo_print(10)  # prints to screen; variable gets None\n",
    "returned = demo_return(10) # returns 20; variable gets 20\n",
    "\n",
    "print(\"printed variable:\", printed)\n",
    "print(\"returned variable:\", returned)"
   ]
  },
  {
   "cell_type": "markdown",
   "id": "581461aa",
   "metadata": {},
   "source": [
    "## 2) Parameters & arguments\n",
    "Parameters are the **names** in the function definition; arguments are the **values** you pass when calling the function."
   ]
  },
  {
   "cell_type": "code",
   "execution_count": null,
   "id": "12430bd0",
   "metadata": {},
   "outputs": [],
   "source": [
    "def power(base, exp=2):   # 'base' and 'exp' are parameters; 'exp' has a default\n",
    "    return base ** exp\n",
    "\n",
    "print(power(3))       # uses default exp=2\n",
    "print(power(2, 5))    # overrides default"
   ]
  },
  {
   "cell_type": "markdown",
   "id": "235c118c",
   "metadata": {},
   "source": [
    "## 3) Functions calling functions (composition)\n",
    "You can call a function from inside another to build up logic."
   ]
  },
  {
   "cell_type": "code",
   "execution_count": null,
   "id": "313671a0",
   "metadata": {},
   "outputs": [],
   "source": [
    "def square(x):\n",
    "    return x * x\n",
    "\n",
    "def hypotenuse(a, b):\n",
    "    # call 'square' from inside 'hypotenuse'\n",
    "    return (square(a) + square(b)) ** 0.5\n",
    "\n",
    "hypotenuse(3, 4)"
   ]
  },
  {
   "cell_type": "markdown",
   "id": "adfdb853",
   "metadata": {},
   "source": [
    "## 4) Scope: local vs global\n",
    "- A **local** variable exists only inside the function that created it.\n",
    "- A **global** variable is defined at the top-level and is visible *for reading* inside functions, unless a same-named **local** is assigned."
   ]
  },
  {
   "cell_type": "code",
   "execution_count": null,
   "id": "47473c76",
   "metadata": {},
   "outputs": [],
   "source": [
    "x = 10  # global\n",
    "\n",
    "def show_local():\n",
    "    x = 20         # local 'x' shadows the global inside this function\n",
    "    print(\"Inside show_local, x =\", x)\n",
    "\n",
    "show_local()\n",
    "print(\"Outside (global), x =\", x)"
   ]
  },
  {
   "cell_type": "markdown",
   "id": "09ea3273",
   "metadata": {},
   "source": [
    "### 4a) The `global` keyword\n",
    "Use `global` **sparingly**. It tells Python that you want to *modify* the global variable,\n",
    "rather than creating a new local with the same name."
   ]
  },
  {
   "cell_type": "code",
   "execution_count": null,
   "id": "40283696",
   "metadata": {},
   "outputs": [],
   "source": [
    "x = 5  # global\n",
    "\n",
    "def bump_global():\n",
    "    global x\n",
    "    x = x + 10\n",
    "    print(\"Inside bump_global, x =\", x)\n",
    "\n",
    "bump_global()\n",
    "print(\"After bump_global, global x =\", x)"
   ]
  },
  {
   "cell_type": "markdown",
   "id": "7f5b6617",
   "metadata": {},
   "source": [
    "### 4b) Common pitfall: UnboundLocalError (shadowing)\n",
    "If you assign to a name anywhere in a function body, Python treats it as **local** in that function.\n",
    "Then trying to *use it before assignment* raises `UnboundLocalError`."
   ]
  },
  {
   "cell_type": "code",
   "execution_count": null,
   "id": "321e3f94",
   "metadata": {},
   "outputs": [],
   "source": [
    "# Uncomment to see the error:\n",
    "# x = 7\n",
    "# def shadow():\n",
    "#     print(x)  # Python thinks 'x' is local in this function because of the next line\n",
    "#     x = x + 1 # ERROR: using the local 'x' before it is assigned\n",
    "# shadow()"
   ]
  },
  {
   "cell_type": "markdown",
   "id": "099e520e",
   "metadata": {},
   "source": [
    "## Exercise Practice:"
   ]
  },
  {
   "cell_type": "markdown",
   "id": "8c45c44b",
   "metadata": {},
   "source": [
    "## 5) Nested functions (preview)\n",
    "Functions can be defined inside other functions."
   ]
  },
  {
   "cell_type": "code",
   "execution_count": null,
   "id": "4c823ba7",
   "metadata": {},
   "outputs": [],
   "source": [
    "def outer(u, v):\n",
    "    def inner(a, b):\n",
    "        return a + b + 1\n",
    "    return inner(u, v)\n",
    "\n",
    "outer(2, 3)"
   ]
  },
  {
   "cell_type": "markdown",
   "id": "34a0ac10",
   "metadata": {},
   "source": [
    "## 6) Tracing quick checks (inspired by practice)\n",
    "Predict the output **before** you run. Then run and compare."
   ]
  },
  {
   "cell_type": "code",
   "execution_count": null,
   "id": "79ed7e03",
   "metadata": {},
   "outputs": [],
   "source": [
    "def changeA(a):\n",
    "    a = 3\n",
    "    return a\n",
    "\n",
    "def multiply(a, b):\n",
    "    return a * b\n",
    "\n",
    "def sum1(a, b, c):\n",
    "    a = changeA(a)\n",
    "    b = multiply(a, a)\n",
    "    return a + b + c\n",
    "\n",
    "x, y, z = 1, 2, 3\n",
    "print(sum1(x, y, z))  # What do you expect?"
   ]
  },
  {
   "cell_type": "markdown",
   "id": "8b0df038",
   "metadata": {},
   "source": [
    "## 6.2: Function Tracing Example:"
   ]
  },
  {
   "cell_type": "code",
   "execution_count": null,
   "id": "4d293f35",
   "metadata": {},
   "outputs": [],
   "source": [
    "def math1(x, y, z):\n",
    "    z = a + 1\n",
    "    c = x + 1\n",
    "    y = c + 1\n",
    "    return x + y + z\n",
    "\n",
    "def math2(a, b, c):\n",
    "    a = a + c\n",
    "    b = math1(a, b, c)\n",
    "    c = x + 1\n",
    "    return a + b + c\n",
    "\n",
    "# Try running these step by step:\n",
    "a = 2\n",
    "c = 4\n",
    "b = math1(a,a,a)\n",
    "\n",
    "print(b)\n",
    "\n",
    "x = 5\n",
    "\n",
    "print(math2(3,4,5))"
   ]
  },
  {
   "cell_type": "markdown",
   "id": "cb74f83a",
   "metadata": {},
   "source": [
    "## 6.3"
   ]
  },
  {
   "cell_type": "code",
   "execution_count": null,
   "id": "9f9c99b0",
   "metadata": {},
   "outputs": [],
   "source": [
    "def func1(x, y, z):\n",
    "    def func2(z, y, x):\n",
    "        print(z // y + x)\n",
    "\n",
    "    func2(x, y, z)\n",
    "\n",
    "func1(10, 20, 30)"
   ]
  },
  {
   "cell_type": "markdown",
   "id": "589beb1b",
   "metadata": {},
   "source": [
    "## 7) Practice: write `in_range(n)` **without** `if`\n",
    "> Return `True` iff `n` is an **integer** from 1 to 3 inclusive. Use only arithmetic/comparison/boolean ops."
   ]
  },
  {
   "cell_type": "code",
   "execution_count": null,
   "id": "08ca02e9",
   "metadata": {},
   "outputs": [],
   "source": [
    "def in_range(n):\n",
    "    # TODO: implement without if/elif\n",
    "    # Hint: (n == int(n)) checks integrality, and bounds can be checked with comparisons.\n",
    "    return (n == int(n)) and (1 <= n <= 3)\n",
    "\n",
    "# Quick checks:\n",
    "print(in_range(1), in_range(2), in_range(3), in_range(0), in_range(3.4), in_range(1.0))"
   ]
  },
  {
   "cell_type": "markdown",
   "id": "ae79a103",
   "metadata": {},
   "source": [
    "## 8) Practice: circle area & circumference\n",
    "Write `print_circle_info(radius)` that prints the area and circumference (2 decimal places)."
   ]
  },
  {
   "cell_type": "code",
   "execution_count": null,
   "id": "fd24a011",
   "metadata": {},
   "outputs": [],
   "source": [
    "import math\n",
    "\n",
    "def print_circle_info(radius):\n",
    "    area = math.pi * radius**2\n",
    "    circ = 2 * math.pi * radius\n",
    "    print(f\"The area of the circle is: {area:.2f}\")\n",
    "    print(f\"The circumference of the circle is: {circ:.2f}\")\n",
    "\n",
    "print_circle_info(5)"
   ]
  },
  {
   "cell_type": "markdown",
   "id": "db5cc669",
   "metadata": {},
   "source": [
    "## 10) Practice: right triangle (no `if`)\n",
    "Return `True` iff there exists a right triangle with side lengths `x, y, z`."
   ]
  },
  {
   "cell_type": "code",
   "execution_count": null,
   "id": "a8a31562",
   "metadata": {},
   "outputs": [],
   "source": [
    "def exists_triangle(x: float, y: float, z: float) -> bool:\n",
    "    sides = sorted([x, y, z])\n",
    "    a, b, c = sides  # c is largest\n",
    "    return (a > 0 and b > 0 and c > 0) and abs(a*a + b*b - c*c) < 1e-9\n",
    "\n",
    "print(exists_triangle(3,4,5), exists_triangle(5,3,4), exists_triangle(1,0,10))"
   ]
  },
  {
   "cell_type": "markdown",
   "id": "50e27db8",
   "metadata": {},
   "source": [
    "## 11) Practice: quadratic largest root\n",
    "Return the largest solution to `ax^2 + bx + c = 0`. Assume real solutions."
   ]
  },
  {
   "cell_type": "code",
   "execution_count": null,
   "id": "adaf9fe7",
   "metadata": {},
   "outputs": [],
   "source": [
    "import math\n",
    "\n",
    "def solver(a: float, b: float, c: float) -> float:\n",
    "    disc = b*b - 4*a*c\n",
    "    r1 = (-b + math.sqrt(disc)) / (2*a)\n",
    "    r2 = (-b - math.sqrt(disc)) / (2*a)\n",
    "    return max(r1, r2)\n",
    "\n",
    "print(solver(2, -8, 6))  # expected 3\n"
   ]
  },
  {
   "cell_type": "markdown",
   "id": "c62d9425",
   "metadata": {},
   "source": [
    "## 12) Global variable demo (show *how* it works)\n",
    "Run the two cells below and discuss: where does each `x` live? Why does the global `x` change in one case but not the other?"
   ]
  },
  {
   "cell_type": "code",
   "execution_count": null,
   "id": "0f95dacf",
   "metadata": {},
   "outputs": [],
   "source": [
    "x = 10\n",
    "\n",
    "def func1():\n",
    "    x = 20\n",
    "    print(\"Inside func1, x =\", x)\n",
    "\n",
    "func1()\n",
    "print(\"Outside, x =\", x)"
   ]
  },
  {
   "cell_type": "code",
   "execution_count": null,
   "id": "42a17327",
   "metadata": {},
   "outputs": [],
   "source": [
    "x = 5\n",
    "\n",
    "def bar():\n",
    "    global x\n",
    "    x = x + 10\n",
    "    print(\"Inside bar, x =\", x)\n",
    "\n",
    "bar()\n",
    "print(\"Outside bar, x =\", x)"
   ]
  },
  {
   "cell_type": "markdown",
   "id": "b862d95e",
   "metadata": {},
   "source": [
    "## 13) Nested & edge-case tracing"
   ]
  },
  {
   "cell_type": "code",
   "execution_count": null,
   "id": "d72e3e8d",
   "metadata": {},
   "outputs": [],
   "source": [
    "def outer(x, y, z):\n",
    "    def inner():\n",
    "        def evenmoreinner(x, y, z):\n",
    "            return x + y + z + 1\n",
    "        evenmoreinner(x, y, z) \n",
    "        return x + y + z\n",
    "    return inner()\n",
    "\n",
    "print(outer(2, 3, 4))  # Predict before running"
   ]
  }
 ],
 "metadata": {
  "kernelspec": {
   "display_name": "base",
   "language": "python",
   "name": "python3"
  },
  "language_info": {
   "codemirror_mode": {
    "name": "ipython",
    "version": 3
   },
   "file_extension": ".py",
   "mimetype": "text/x-python",
   "name": "python",
   "nbconvert_exporter": "python",
   "pygments_lexer": "ipython3",
   "version": "3.11.4"
  }
 },
 "nbformat": 4,
 "nbformat_minor": 5
}
